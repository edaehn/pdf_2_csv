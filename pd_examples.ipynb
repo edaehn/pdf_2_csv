{
 "cells": [
  {
   "cell_type": "code",
   "execution_count": 2,
   "metadata": {},
   "outputs": [],
   "source": [
    "# Herein I show Pandas usage examples with the extracted table"
   ]
  },
  {
   "cell_type": "code",
   "execution_count": 5,
   "metadata": {},
   "outputs": [],
   "source": [
    "import pandas as pd"
   ]
  },
  {
   "cell_type": "code",
   "execution_count": 1,
   "metadata": {},
   "outputs": [
    {
     "name": "stdout",
     "output_type": "stream",
     "text": [
      "\n",
      "=================================================\n",
      "Extracting the PDF table into the CSV format\n",
      "=================================================\n",
      "Using tabula-py: \t24.73 seconds\n",
      "Using PyPDF2: \t\t2.0 seconds\tquickest\n",
      "=================================================\n",
      "Both CSV outputs (see files tabula_Scrape.csv \n",
      "and PyPDF2_Scrape.csv) are identical.\n",
      "================================================= \n",
      "Thank you.\n"
     ]
    }
   ],
   "source": [
    "from pdf_to_csv import df_tabula as df"
   ]
  },
  {
   "cell_type": "code",
   "execution_count": 6,
   "metadata": {},
   "outputs": [],
   "source": [
    "df2=pd.read_csv(\"PyPDF2_Scrape.csv\")"
   ]
  },
  {
   "cell_type": "code",
   "execution_count": 4,
   "metadata": {},
   "outputs": [
    {
     "name": "stdout",
     "output_type": "stream",
     "text": [
      "<class 'pandas.core.frame.DataFrame'>\n",
      "RangeIndex: 185 entries, 0 to 184\n",
      "Data columns (total 6 columns):\n",
      "COUNTRY CODE    185 non-null object\n",
      "NAME            185 non-null object\n",
      "ADDRESS         185 non-null object\n",
      "ZIP CODE        185 non-null object\n",
      "CITY            185 non-null object\n",
      "DESCRIPTION     185 non-null object\n",
      "dtypes: object(6)\n",
      "memory usage: 8.7+ KB\n"
     ]
    }
   ],
   "source": [
    "df.info()"
   ]
  },
  {
   "cell_type": "code",
   "execution_count": null,
   "metadata": {},
   "outputs": [],
   "source": []
  }
 ],
 "metadata": {
  "kernelspec": {
   "display_name": "Python 2",
   "language": "python",
   "name": "python2"
  },
  "language_info": {
   "codemirror_mode": {
    "name": "ipython",
    "version": 2
   },
   "file_extension": ".py",
   "mimetype": "text/x-python",
   "name": "python",
   "nbconvert_exporter": "python",
   "pygments_lexer": "ipython2",
   "version": "2.7.15"
  }
 },
 "nbformat": 4,
 "nbformat_minor": 2
}
